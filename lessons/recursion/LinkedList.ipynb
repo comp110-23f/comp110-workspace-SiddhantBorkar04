{
 "cells": [
  {
   "cell_type": "code",
   "execution_count": 72,
   "source": [
    "from node import Node"
   ],
   "outputs": [],
   "metadata": {}
  },
  {
   "cell_type": "markdown",
   "source": [
    "# Instantiate our Nodes to Make a linked list!"
   ],
   "metadata": {}
  },
  {
   "cell_type": "code",
   "execution_count": 73,
   "source": [
    "node_c: Node = Node(2, None) # base case\n",
    "node_b: Node = Node(1, node_c)\n",
    "node_a: Node = Node(0, node_b) # head of list"
   ],
   "outputs": [],
   "metadata": {}
  },
  {
   "cell_type": "markdown",
   "source": [
    "# Testing out accessing attributes\n"
   ],
   "metadata": {}
  },
  {
   "cell_type": "code",
   "execution_count": 74,
   "source": [
    "print(node_a.next.next.data)\n",
    "print(node_a.next.next.next)"
   ],
   "outputs": [
    {
     "output_type": "stream",
     "name": "stdout",
     "text": [
      "2\n",
      "None\n"
     ]
    }
   ],
   "metadata": {}
  },
  {
   "cell_type": "markdown",
   "source": [
    "## Testing Out `__str__` method"
   ],
   "metadata": {}
  },
  {
   "cell_type": "code",
   "execution_count": 75,
   "source": [
    "print(node_a)"
   ],
   "outputs": [
    {
     "output_type": "stream",
     "name": "stdout",
     "text": [
      "0 -> 1 -> 2 -> None\n"
     ]
    }
   ],
   "metadata": {}
  },
  {
   "cell_type": "markdown",
   "source": [
    "# `head()` method\n",
    "\n",
    "## Part 0. \n",
    "\n",
    "You are going to create a method called `head()` with the following properties:\n",
    "\n",
    "* It takes no arguments (other than `self`)\n",
    "* It returns an `int`\n",
    "* Behavior: It should return the `data` attribute for the first element in the linked list\n"
   ],
   "metadata": {}
  },
  {
   "cell_type": "code",
   "execution_count": 76,
   "source": [
    "print(\"Actual: \", node_a.head(), \" - Expected: 0\")"
   ],
   "outputs": [
    {
     "output_type": "stream",
     "name": "stdout",
     "text": [
      "Actual:  None  - Expected: 0\n"
     ]
    }
   ],
   "metadata": {}
  },
  {
   "cell_type": "markdown",
   "source": [
    "# `tail()` method\n",
    "\n",
    "## Part 1. \n",
    "\n",
    "You are going to create a method called `tail()` with the following properties:\n",
    "\n",
    "* It takes no arguments (other than `self`)\n",
    "* It returns an `Node` object (or `None` if linked list is of length 1)\n",
    "* Behavior: It should return a linked list of every element minus the head."
   ],
   "metadata": {}
  },
  {
   "cell_type": "code",
   "execution_count": 77,
   "source": [
    "print(node_a)\n",
    "print(\"Actual: \", node_a.tail(), \" - Expected: 1 -> 2 -> None\")\n",
    "print(\"Actual: \", node_c.tail(), \" - Expected: None\")"
   ],
   "outputs": [
    {
     "output_type": "stream",
     "name": "stdout",
     "text": [
      "0 -> 1 -> 2 -> None\n",
      "Actual:  None  - Expected: 1 -> 2 -> None\n",
      "Actual:  None  - Expected: None\n"
     ]
    }
   ],
   "metadata": {}
  },
  {
   "cell_type": "markdown",
   "source": [
    "# `list()` method\n",
    "\n",
    "## Part 2. \n",
    "\n",
    "You are going to create a method called `last()` with the following properties:\n",
    "\n",
    "* It takes no arguments (other than `self`)\n",
    "* It returns an `int` object\n",
    "* Behavior: It should return the `data` of the *last* element in the linked list. (Hint: Look at `__str__`!)"
   ],
   "metadata": {}
  },
  {
   "cell_type": "code",
   "execution_count": 78,
   "source": [
    "print(\"Actual: \", node_a.last(), \" - Expected: 2\")"
   ],
   "outputs": [
    {
     "output_type": "stream",
     "name": "stdout",
     "text": [
      "Actual:  None  - Expected: 2\n"
     ]
    }
   ],
   "metadata": {}
  }
 ],
 "metadata": {
  "kernelspec": {
   "name": "python3",
   "display_name": "Python 3.11.4 64-bit"
  },
  "language_info": {
   "codemirror_mode": {
    "name": "ipython",
    "version": 3
   },
   "file_extension": ".py",
   "mimetype": "text/x-python",
   "name": "python",
   "nbconvert_exporter": "python",
   "pygments_lexer": "ipython3",
   "version": "3.11.4"
  },
  "interpreter": {
   "hash": "aee8b7b246df8f9039afb4144a1f6fd8d2ca17a180786b69acc140d282b71a49"
  }
 },
 "nbformat": 4,
 "nbformat_minor": 2
}